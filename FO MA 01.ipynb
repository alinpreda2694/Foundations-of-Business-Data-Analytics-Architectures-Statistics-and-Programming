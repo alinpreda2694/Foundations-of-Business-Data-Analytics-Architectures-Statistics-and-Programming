{
 "cells": [
  {
   "cell_type": "markdown",
   "metadata": {},
   "source": [
    "# MANDATORY ASSIGNMENT NUMBER ONE - Alin Cristian Preda"
   ]
  },
  {
   "cell_type": "markdown",
   "metadata": {},
   "source": [
    " ### 1) Assignment on control structures"
   ]
  },
  {
   "cell_type": "markdown",
   "metadata": {},
   "source": [
    "#### 1.1) For loop to compute the sum of all numbers below 1000 that are a multiple of either 3 or 5."
   ]
  },
  {
   "cell_type": "code",
   "execution_count": 1,
   "metadata": {},
   "outputs": [
    {
     "name": "stdout",
     "output_type": "stream",
     "text": [
      "('The sum of multiples or either ', 3, ' or ', 5, ' that are below ', 1000, ' is ', 233168)\n"
     ]
    }
   ],
   "source": [
    "def sum_of_multiples_for(threshhold_number, a, b):\n",
    "    \"\"\"\n",
    "    Uses: a for loop.\n",
    "    Assumes: the parameters are of type int.\n",
    "    Returns: the sum of all numbers below the threshhold_number that are multiples of either a or b.\n",
    "    \"\"\"\n",
    "    sum = 0 # The Running Sum starts from 0 and iterates with the appropiate i\n",
    "    for i in range(0,threshhold_number):\n",
    "        if (i%a == 0) or (i%b== 0): # We use the 'or' keyword due to the fact that we don't want to add up the same value multiple times\n",
    "            sum += i\n",
    "    return 'The sum of multiples or either ', a, ' or ', b, ' that are below ', threshhold_number, ' is ', sum\n",
    "\n",
    "print(sum_of_multiples_for(1000, 3, 5)) # Answer is 233168"
   ]
  },
  {
   "cell_type": "markdown",
   "metadata": {},
   "source": [
    "#### 1.2) while loop to compute the sum of all numbers below 1000 that are a multiple of either 3 or 5."
   ]
  },
  {
   "cell_type": "code",
   "execution_count": 2,
   "metadata": {},
   "outputs": [
    {
     "name": "stdout",
     "output_type": "stream",
     "text": [
      "('The sum of multiples or either ', 3, ' or ', 5, ' that are below ', 1000, ' is ', 233168)\n"
     ]
    }
   ],
   "source": [
    "def sum_of_multiples_while(threshhold_number, a, b):\n",
    "    \"\"\"\n",
    "    Uses: a while loop.\n",
    "    Assumes: the parameters are of type int.\n",
    "    Returns: the sum of all numbers below the threshhold_number that are multiples of either a or b.\n",
    "    \"\"\"\n",
    "    sum = 0\n",
    "    i = 0 # We need a counter for the while loop.\n",
    "    while i < threshhold_number:\n",
    "         if (i%a == 0) or (i%b == 0):\n",
    "             sum += i\n",
    "         i += 1 # Increment the counter\n",
    "    return 'The sum of multiples or either ', a, ' or ', b, ' that are below ', threshhold_number, ' is ', sum\n",
    "\n",
    "print(sum_of_multiples_while(1000, 3, 5)) # Answer is still 233168"
   ]
  },
  {
   "cell_type": "markdown",
   "metadata": {},
   "source": [
    "### 2) Compute the largest product of 4 consecutive numbers from a 100-digit number"
   ]
  },
  {
   "cell_type": "code",
   "execution_count": 3,
   "metadata": {},
   "outputs": [
    {
     "name": "stdout",
     "output_type": "stream",
     "text": [
      "(' The largest product of 4 adjacent digits in ', 73167176531330624919225119674426574742355349194934969835203127745063262395783180169848018694788518439999, ' is', 6561)\n",
      "(' The largest product of 4 adjacent digits in ', 7316717653133062491922511967442657474235534919493496983520312774506326239578318016984801869478851843, ' is', 3888)\n"
     ]
    }
   ],
   "source": [
    "def max_cons_prod_four(test_number):\n",
    "    \"\"\"\n",
    "    Assumes: test_number is of type int.\n",
    "    Returns: the largest product of 4 consecutive numbers from the test_number.\n",
    "    \"\"\"\n",
    "    product = 1 # We initiate the product with 1.\n",
    "    max = 1 # We will make use of a max to store the result.\n",
    "    list = [int(d) for d in str(test_number)] # We convert the test_number into a string of characters;\n",
    "                                              # Next, we create a list of integers from the string of characters.\n",
    "    for d in range(0, len(list) - 3): # len(list) goes to - 3 and not -4 because e.g. for i in range(0,2): print(i) only outputs 0 and 1.\n",
    "        product = list[d] * list[d+1] * list[d+2] * list[d+3]\n",
    "        if product > max:\n",
    "            max = product\n",
    "    return ' The largest product of 4 adjacent digits in ', test_number, ' is', max\n",
    "\n",
    "########## TEST ########### ! Obs: Put 9999 at the end of the number because it is the maximum product possible;\n",
    "                            # If it's not equal to 9 *4 = 6561, then it does not work properly.\n",
    "# print(max_cons_prod_four(73167176531330624919225119674426574742355349194934969835203127745063262395783180169848018694788518439999))\n",
    "print(max_cons_prod_four(7316717653133062491922511967442657474235534919493496983520312774506326239578318016984801869478851843)) # The answer is 3888."
   ]
  },
  {
   "cell_type": "markdown",
   "metadata": {},
   "source": [
    "### 3) [Based on list comprehension]: For any given list of numbers, separate the list into 2 sub-lists containing even and odd numbers."
   ]
  },
  {
   "cell_type": "markdown",
   "metadata": {},
   "source": [
    "#### 3.1) Without list comprehension"
   ]
  },
  {
   "cell_type": "code",
   "execution_count": 5,
   "metadata": {},
   "outputs": [
    {
     "name": "stdout",
     "output_type": "stream",
     "text": [
      "([1, 3, 5, 7, 9], [2, 4, 6, 8])\n",
      "([1, 3, 5, 7, 9], [2, 4, 6, 8])\n"
     ]
    }
   ],
   "source": [
    "def list_separator(integer_list):\n",
    "    \"\"\"\n",
    "    Uses a conditional for loop.\n",
    "    Assume: integer_list is a list of integers.\n",
    "    Returns: two sub-lists containing the even and respectively odd numbers of integer_list.\n",
    "    \"\"\"\n",
    "    # This method must initialize two lists before iterating through the integer_list.\n",
    "    odd_list = []\n",
    "    even_list = []\n",
    "    for num in integer_list:\n",
    "        if num%2 == 0: # We test the numbers and assign them to their respective lists. \n",
    "            even_list.append(num)\n",
    "        else:\n",
    "            odd_list.append(num)\n",
    "#    return 'The even numbers are ',even_list, ' and the odd numbers are ', odd_list # Can also return tuple as (odd_list, even_list)\n",
    "    return(odd_list, even_list) # Using a tuple, we can return multiple values at once. \n",
    " \n",
    "test_list = [1,2,3,4,5,6,7,8,9]\n",
    "print(list_separator(test_list))"
   ]
  },
  {
   "cell_type": "markdown",
   "metadata": {},
   "source": [
    "#### 3.2) With list comprehension"
   ]
  },
  {
   "cell_type": "code",
   "execution_count": 6,
   "metadata": {},
   "outputs": [
    {
     "name": "stdout",
     "output_type": "stream",
     "text": [
      "([1, 3, 5, 7, 9], [2, 4, 6, 8])\n"
     ]
    }
   ],
   "source": [
    "def list_separator_(integer_list):\n",
    "    \"\"\"\n",
    "    Uses list comprehension.\n",
    "    Assume: integer_list is a list of integers.\n",
    "    Returns: two sub-lists containing the even and respectively odd numbers of integer_list.\n",
    "    \"\"\"\n",
    "    odd_list = [num for num in integer_list if num%2==0]\n",
    "    even_list = [num for num in integer_list if num%2!=0]\n",
    "    return (even_list, odd_list) # Using a tuple, we can return multiple values at once. \n",
    "\n",
    "test_list = [1,2,3,4,5,6,7,8,9]\n",
    "print(list_separator_(test_list))"
   ]
  },
  {
   "cell_type": "markdown",
   "metadata": {},
   "source": [
    "### 4) [Based on recursion]: Reverse the given string."
   ]
  },
  {
   "cell_type": "code",
   "execution_count": 7,
   "metadata": {},
   "outputs": [
    {
     "name": "stdout",
     "output_type": "stream",
     "text": [
      "Error: No string detected. Please enter a string of characters.\n",
      "negahnepoc\n"
     ]
    }
   ],
   "source": [
    "def rec_reverse(string):\n",
    "    \"\"\"\n",
    "    1) Uses: recursion.\n",
    "    2) Assumes: string variable as type(string) of len(string) >=1.\n",
    "    3) Returns: the reverse of the string in lowercase characters.\n",
    "    4) If the string has no characters, the function returns an Error message.\n",
    "    \"\"\"\n",
    "    if len(string) < 1:\n",
    "        return 'Error: No string detected. Please enter a string of characters.'\n",
    "    elif len(string) == 1:\n",
    "        return string.lower() # I chose to transform into lowercase because Python is case-sensitive.\n",
    "    else:\n",
    "        return rec_reverse(string[1:]) + string[0].lower()\n",
    "\n",
    "print(rec_reverse('')) # Error test.\n",
    "print(rec_reverse('CoPenHagen'))"
   ]
  },
  {
   "cell_type": "markdown",
   "metadata": {},
   "source": [
    "### 5) Given a word and a string of characters, find how many times over you can construct that word from the string."
   ]
  },
  {
   "cell_type": "markdown",
   "metadata": {},
   "source": [
    "The way I understand the problem, there are two situatuions:\n",
    "    1) The word can be constructed only by its letters being in order in the given string (in reverse as well).\n",
    "    2) The word can be constructed by putting together its letters. Ex: each char of the word is present 6 times => 6 words => answer is 6. \n",
    "I found it hard to do it without a dictionary. Managed to do a function that counts the number of times a word can be found written with its letters in order (or reverse) in a given string. (See below) It writes very different results. \n",
    "\n",
    "Eventually, I've managed to do it. In the second cell below this, I chose to upload only the more general function that answers question Number 5. "
   ]
  },
  {
   "cell_type": "code",
   "execution_count": 6,
   "metadata": {},
   "outputs": [
    {
     "name": "stdout",
     "output_type": "stream",
     "text": [
      "('The number is ', 0)\n",
      "('The number is ', 1)\n"
     ]
    }
   ],
   "source": [
    "######### WITHOUT DICTIONARIES ##########\n",
    "def counter_str(input_word, input_string):\n",
    "    if input_word == \"\":\n",
    "        return 'Error: please input an input word.'\n",
    "\n",
    "    def rec_reverse(s): # The word can also be formed in reverse.\n",
    "        if s == \"\":\n",
    "            return 'Error: please input an input string.' # We need an input string/word.\n",
    "        else:\n",
    "            return rec_reverse(s[1:]) + s[0]\n",
    "\n",
    "    return 'The number is ',(input_string.count(input_word) + rec_reverse(input_string).count(input_word)) # We will agregate both the normal and reverse variants.\n",
    "\n",
    "s = \"ccgatcahctatttaaaaccctatcatastadfa\"\n",
    "word1 = 'caat' \n",
    "word2 = 'cat'\n",
    "print(counter_str(word1,s))\n",
    "print(counter_str(word2,s))"
   ]
  },
  {
   "cell_type": "code",
   "execution_count": 1,
   "metadata": {},
   "outputs": [
    {
     "name": "stdout",
     "output_type": "stream",
     "text": [
      "3\n",
      "0\n"
     ]
    }
   ],
   "source": [
    "word1 = 'caattt'\n",
    "string1 = 'ccgatcahctatttaaaaccctatcatastadfa'\n",
    "\n",
    "word2 = 'poottt'\n",
    "string2 = 'coptopstoprope'\n",
    "\n",
    "\n",
    "def dict_counter(word, string):\n",
    "    \"\"\"\n",
    "        1) Uses dictionaries.\n",
    "        2) Assumes input_word and input_string are of type string.\n",
    "        3) Returns how many times over you can construct input_word from input_string.\n",
    "    \"\"\"\n",
    "    for char in word:\n",
    "        if char not in string:\n",
    "            return 0 # Pretty self explanatory\n",
    "\n",
    "    word.lower() # Because Py is case sensitive.\n",
    "    string.lower()\n",
    "    dict_word = {} # How many of each letter do we need for one creation.\n",
    "    dict_string = {} # Basically, a frequency vector to store no of letter occurence in string.\n",
    "    dict_result = {}\n",
    "    dict\n",
    "\n",
    "    def count_letters(word, char):\n",
    "        '''Counts number of occurence of letter in string.'''\n",
    "        count = 0\n",
    "        for c in word:\n",
    "            # if char == c:\n",
    "            #     count += 1\n",
    "            count += (char == c) # Exploits the fact that booleans can turn into 1 if true and 0 if false. Less (code) is more!\n",
    "        return count\n",
    "\n",
    "    def minimax_key(d, bool):\n",
    "     \"\"\"\n",
    "     1) create a list of the dict's keys and values;\n",
    "     2) return the key with the max value\n",
    "     \"\"\"\n",
    "     v = list(d.values())\n",
    "     # k = list(d.keys())\n",
    "     # return k[v.index(max(v))]\n",
    "     if bool == 'min':\n",
    "         return min(v)\n",
    "     elif bool == 'max':\n",
    "         return max(v)\n",
    "\n",
    "    for char in word:\n",
    "        dict_word[char] = count_letters(word, char)\n",
    "    for char in string:\n",
    "        dict_string[char] = count_letters(string, char)\n",
    "    for char in word:\n",
    "        dict_result[char] = dict_string[char] // dict_word[char]\n",
    "    #print(dict_result)\n",
    "        # print(dict_word)\n",
    "        # print(dict_string)\n",
    "    return minimax_key(dict_result, 'min')\n",
    "\n",
    "print(dict_counter(word1, string1))\n",
    "print(dict_counter(word2, string2))\n"
   ]
  },
  {
   "cell_type": "markdown",
   "metadata": {},
   "source": [
    "### 6) [Based on dictionaries and strings]: Function that will separate the segments of characters and numbers with a given separator of your choice from a given string."
   ]
  },
  {
   "cell_type": "markdown",
   "metadata": {},
   "source": [
    "I found this one difficult to solve properly. I could not put just one separator but instead it replaced every undesirable character in my final tuple. Then I encountered several other problems. Proably most dificult to solve. In the end, I chose to upload the general formula, used for two input strings because it includes the one for just one parameter. "
   ]
  },
  {
   "cell_type": "code",
   "execution_count": 2,
   "metadata": {},
   "outputs": [
    {
     "name": "stdout",
     "output_type": "stream",
     "text": [
      "('CopenhagenhostedCop_summitatBellaCentrein_whichwasattendedbydelegatesfrommorethan_countries<<<JOIN>>>On_December_theCommunistPartyinRomaniafellandforthefirsttimein_yearsthepeoplewerefree', '09_2009_100<<<JOIN>>>25_1989_59')\n"
     ]
    }
   ],
   "source": [
    "string1 = 'Copenhagen hosted Cop-09 summit at Bella Centre in 2009, which was attended by delegates from more than 100 countries.'\n",
    "string2 = 'On 25 December 1989, the Communist Party in Romania fell and for the first time in 59 years, the people were free.'\n",
    "\n",
    "def separate_into_tuples(str1, str2):\n",
    "    \"\"\"\n",
    "    1) Assumes input as two strings.\n",
    "    2) Uses for loops, strings, lists, tuples, nested ifs and helper functions.\n",
    "    3) Returns a two-element tuple which contains the joined separated segments of characters and numbers of the two strings.\n",
    "    Observation: The formal parameters can be infinitly extended to operate on any number of strings.\n",
    "    \"\"\"\n",
    "    s1 = list(str1)\n",
    "    s2 = list(str2)\n",
    "    abc = list('abcdefghijklmnopqrstuvwxyzABCDEFGHIJKLMNOPQRSTUVWXYZ') # Note to self: careful when writing like this. Might miss something.\n",
    "    num = list('0123456789') # Actually caused a lot of debugging time because did not wrote 9 and n.\n",
    "    \"\"\"\n",
    "    Helper function 1 writes the character segmet.\n",
    "    \"\"\"\n",
    "    def write_abc(l):\n",
    "        abc1 = []\n",
    "        num1 = []\n",
    "        for i in range(0, len(l)): #not len(l) -1 because then it doesn't iterate on the last character.\n",
    "            if l[i] in abc:\n",
    "                abc1.append(l[i])\n",
    "            elif l[i] in num:\n",
    "                num1.append(l[i])\n",
    "                if l[i-1] in num:\n",
    "                    pass\n",
    "                else:\n",
    "                    abc1.append('_')\n",
    "        return abc1\n",
    "    \"\"\"\n",
    "    Helper function 1 writes the numbers' segmet; Similar to write_abc but with extra code.\n",
    "    \"\"\"\n",
    "    def write_num(l):\n",
    "        num1 = []\n",
    "        for i in range(0, len(l)):\n",
    "            if l[i] in num:\n",
    "                num1.append(l[i])\n",
    "                if (l[i+1] in abc) or (l[i+1] in list(' -+*/\\!@#$%^&~<>;:[]{}(),.?')): # Found the need to add this condition because otherwise it keps appending '_' for spaces and other symbols.\n",
    "                    num1.append('_')\n",
    "            elif (l[i] in abc) or (l[i] in list(' -+*/\\!@#$%^&~<>;:[]{}(),.?')):\n",
    "                #num1.append('')\n",
    "                pass # This is a life saver; Using append '' gave me trouble in poping the list at the end.\n",
    "        if num1[-1] == '_':\n",
    "            num1.pop() # I popped the list in order to eliminate the '_' from the back of the number segment.\n",
    "        return num1\n",
    "\n",
    "    abc_joined = ''.join(write_abc(s1)) + '<<<JOIN>>>' + ''.join(write_abc(s2)) # '_'.join() used to convert into string\n",
    "    num_joined = ''.join(write_num(s1)) + '<<<JOIN>>>' + ''.join(write_num(s2)) # I chise <<<JOIN>>> as the delimiter between the two string's respective segments.\n",
    "\n",
    "    return (abc_joined, num_joined) # Return a tuple\n",
    "\n",
    "print(separate_into_tuples(string1, string2))\n"
   ]
  },
  {
   "cell_type": "code",
   "execution_count": null,
   "metadata": {},
   "outputs": [],
   "source": []
  }
 ],
 "metadata": {
  "kernelspec": {
   "display_name": "Python 3",
   "language": "python",
   "name": "python3"
  },
  "language_info": {
   "codemirror_mode": {
    "name": "ipython",
    "version": 3
   },
   "file_extension": ".py",
   "mimetype": "text/x-python",
   "name": "python",
   "nbconvert_exporter": "python",
   "pygments_lexer": "ipython3",
   "version": "3.6.5"
  }
 },
 "nbformat": 4,
 "nbformat_minor": 2
}
